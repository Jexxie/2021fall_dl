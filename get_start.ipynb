{
  "nbformat": 4,
  "nbformat_minor": 0,
  "metadata": {
    "colab": {
      "name": "Untitled0.ipynb",
      "provenance": [],
      "toc_visible": true,
      "authorship_tag": "ABX9TyMdzeQcLsgW7rj11DabFy4d",
      "include_colab_link": true
    },
    "kernelspec": {
      "name": "python3",
      "display_name": "Python 3"
    },
    "language_info": {
      "name": "python"
    }
  },
  "cells": [
    {
      "cell_type": "markdown",
      "metadata": {
        "id": "view-in-github",
        "colab_type": "text"
      },
      "source": [
        "<a href=\"https://colab.research.google.com/github/Jexxie/2021fall_dl/blob/main/Untitled0.ipynb\" target=\"_parent\"><img src=\"https://colab.research.google.com/assets/colab-badge.svg\" alt=\"Open In Colab\"/></a>"
      ]
    },
    {
      "cell_type": "code",
      "metadata": {
        "colab": {
          "base_uri": "https://localhost:8080/"
        },
        "id": "vF4j2YhIVW6m",
        "outputId": "b720a046-b7bc-4a22-a76d-6c4e0a5fa3b2"
      },
      "source": [
        "from google.colab import drive\n",
        "drive.mount('/content/drive')\n",
        "import os"
      ],
      "execution_count": 1,
      "outputs": [
        {
          "output_type": "stream",
          "name": "stdout",
          "text": [
            "Drive already mounted at /content/drive; to attempt to forcibly remount, call drive.mount(\"/content/drive\", force_remount=True).\n"
          ]
        }
      ]
    },
    {
      "cell_type": "code",
      "metadata": {
        "colab": {
          "base_uri": "https://localhost:8080/"
        },
        "id": "T73wdsNeXL34",
        "outputId": "38084cee-19a5-4347-dc4f-6965aab7917b"
      },
      "source": [
        "%cd '/content/drive/My Drive' \n",
        "!pwd "
      ],
      "execution_count": 3,
      "outputs": [
        {
          "output_type": "stream",
          "name": "stdout",
          "text": [
            "/content/drive/My Drive\n",
            "/content/drive/My Drive\n"
          ]
        }
      ]
    },
    {
      "cell_type": "markdown",
      "metadata": {
        "id": "w6-HzBo5XN5R"
      },
      "source": [
        ""
      ]
    },
    {
      "cell_type": "code",
      "metadata": {
        "colab": {
          "base_uri": "https://localhost:8080/"
        },
        "id": "HGGJFbDXXPT6",
        "outputId": "eb29ca08-ba7b-4eda-95f1-e1799c49755f"
      },
      "source": [
        "!mkdir researchHub"
      ],
      "execution_count": 4,
      "outputs": [
        {
          "output_type": "stream",
          "name": "stdout",
          "text": [
            "mkdir: cannot create directory ‘researchHub’: File exists\n"
          ]
        }
      ]
    },
    {
      "cell_type": "code",
      "metadata": {
        "colab": {
          "base_uri": "https://localhost:8080/"
        },
        "id": "p2Gg6YBbXUZC",
        "outputId": "97960e6d-3df2-460d-d55c-11c3f365f28d"
      },
      "source": [
        "%cd './researchHub'\n",
        "# os.chdir('./researchHub')\n",
        "!git clone https://github.com/princeton-nlp/SimCSE"
      ],
      "execution_count": 5,
      "outputs": [
        {
          "output_type": "stream",
          "name": "stdout",
          "text": [
            "/content/drive/My Drive/researchHub\n",
            "Cloning into 'SimCSE'...\n",
            "remote: Enumerating objects: 385, done.\u001b[K\n",
            "remote: Counting objects: 100% (98/98), done.\u001b[K\n",
            "remote: Compressing objects: 100% (66/66), done.\u001b[K\n",
            "remote: Total 385 (delta 51), reused 35 (delta 32), pack-reused 287\u001b[K\n",
            "Receiving objects: 100% (385/385), 28.30 MiB | 14.66 MiB/s, done.\n",
            "Resolving deltas: 100% (194/194), done.\n"
          ]
        }
      ]
    },
    {
      "cell_type": "code",
      "metadata": {
        "colab": {
          "base_uri": "https://localhost:8080/"
        },
        "id": "uzi3KWltaMqQ",
        "outputId": "c555bb70-61e6-40c2-e9fc-e505ca833f46"
      },
      "source": [
        "%cd SimCSE/\n",
        "%ls\n",
        "# %cd simcse/"
      ],
      "execution_count": 20,
      "outputs": [
        {
          "output_type": "stream",
          "name": "stdout",
          "text": [
            "/content/drive/My Drive/researchHub/SimCSE\n",
            "\u001b[0m\u001b[01;34mdata\u001b[0m/          README.md             setup.py\n",
            "\u001b[01;34mdemo\u001b[0m/          requirements.txt      \u001b[01;34msimcse\u001b[0m/\n",
            "evaluation.py  run_sup_example.sh    simcse_to_huggingface.py\n",
            "\u001b[01;34mfigure\u001b[0m/        run_unsup_example.sh  train.py\n",
            "LICENSE        \u001b[01;34mSentEval\u001b[0m/\n"
          ]
        }
      ]
    },
    {
      "cell_type": "code",
      "metadata": {
        "colab": {
          "base_uri": "https://localhost:8080/"
        },
        "id": "xMDr9QtzbHot",
        "outputId": "44c70c6a-b771-4aa1-e0fb-a4177adaaaa9"
      },
      "source": [
        "pip install simcse"
      ],
      "execution_count": 6,
      "outputs": [
        {
          "output_type": "stream",
          "name": "stdout",
          "text": [
            "Requirement already satisfied: simcse in /usr/local/lib/python3.7/dist-packages (0.4)\n",
            "Requirement already satisfied: transformers in /usr/local/lib/python3.7/dist-packages (from simcse) (4.12.5)\n",
            "Requirement already satisfied: scipy<1.6,>=1.5.4 in /usr/local/lib/python3.7/dist-packages (from simcse) (1.5.4)\n",
            "Requirement already satisfied: tqdm in /usr/local/lib/python3.7/dist-packages (from simcse) (4.62.3)\n",
            "Requirement already satisfied: torch in /usr/local/lib/python3.7/dist-packages (from simcse) (1.7.1+cu110)\n",
            "Requirement already satisfied: scikit-learn in /usr/local/lib/python3.7/dist-packages (from simcse) (1.0.1)\n",
            "Requirement already satisfied: numpy<1.20,>=1.19.5 in /usr/local/lib/python3.7/dist-packages (from simcse) (1.19.5)\n",
            "Requirement already satisfied: setuptools in /usr/local/lib/python3.7/dist-packages (from simcse) (57.4.0)\n",
            "Requirement already satisfied: joblib>=0.11 in /usr/local/lib/python3.7/dist-packages (from scikit-learn->simcse) (1.1.0)\n",
            "Requirement already satisfied: threadpoolctl>=2.0.0 in /usr/local/lib/python3.7/dist-packages (from scikit-learn->simcse) (3.0.0)\n",
            "Requirement already satisfied: typing-extensions in /usr/local/lib/python3.7/dist-packages (from torch->simcse) (3.10.0.2)\n",
            "Requirement already satisfied: pyyaml>=5.1 in /usr/local/lib/python3.7/dist-packages (from transformers->simcse) (6.0)\n",
            "Requirement already satisfied: importlib-metadata in /usr/local/lib/python3.7/dist-packages (from transformers->simcse) (4.8.2)\n",
            "Requirement already satisfied: sacremoses in /usr/local/lib/python3.7/dist-packages (from transformers->simcse) (0.0.46)\n",
            "Requirement already satisfied: tokenizers<0.11,>=0.10.1 in /usr/local/lib/python3.7/dist-packages (from transformers->simcse) (0.10.3)\n",
            "Requirement already satisfied: filelock in /usr/local/lib/python3.7/dist-packages (from transformers->simcse) (3.4.0)\n",
            "Requirement already satisfied: huggingface-hub<1.0,>=0.1.0 in /usr/local/lib/python3.7/dist-packages (from transformers->simcse) (0.1.2)\n",
            "Requirement already satisfied: regex!=2019.12.17 in /usr/local/lib/python3.7/dist-packages (from transformers->simcse) (2019.12.20)\n",
            "Requirement already satisfied: packaging>=20.0 in /usr/local/lib/python3.7/dist-packages (from transformers->simcse) (21.3)\n",
            "Requirement already satisfied: requests in /usr/local/lib/python3.7/dist-packages (from transformers->simcse) (2.23.0)\n",
            "Requirement already satisfied: pyparsing!=3.0.5,>=2.0.2 in /usr/local/lib/python3.7/dist-packages (from packaging>=20.0->transformers->simcse) (3.0.6)\n",
            "Requirement already satisfied: zipp>=0.5 in /usr/local/lib/python3.7/dist-packages (from importlib-metadata->transformers->simcse) (3.6.0)\n",
            "Requirement already satisfied: idna<3,>=2.5 in /usr/local/lib/python3.7/dist-packages (from requests->transformers->simcse) (2.10)\n",
            "Requirement already satisfied: urllib3!=1.25.0,!=1.25.1,<1.26,>=1.21.1 in /usr/local/lib/python3.7/dist-packages (from requests->transformers->simcse) (1.24.3)\n",
            "Requirement already satisfied: chardet<4,>=3.0.2 in /usr/local/lib/python3.7/dist-packages (from requests->transformers->simcse) (3.0.4)\n",
            "Requirement already satisfied: certifi>=2017.4.17 in /usr/local/lib/python3.7/dist-packages (from requests->transformers->simcse) (2021.10.8)\n",
            "Requirement already satisfied: six in /usr/local/lib/python3.7/dist-packages (from sacremoses->transformers->simcse) (1.15.0)\n",
            "Requirement already satisfied: click in /usr/local/lib/python3.7/dist-packages (from sacremoses->transformers->simcse) (7.1.2)\n"
          ]
        }
      ]
    },
    {
      "cell_type": "code",
      "metadata": {
        "id": "cX7lsexbbo0x"
      },
      "source": [
        "from simcse import SimCSE\n",
        "model = SimCSE(\"princeton-nlp/sup-simcse-bert-base-uncased\")"
      ],
      "execution_count": 7,
      "outputs": []
    },
    {
      "cell_type": "code",
      "metadata": {
        "colab": {
          "base_uri": "https://localhost:8080/"
        },
        "id": "jKegf7Nmb00M",
        "outputId": "432746ea-e7ca-4700-9131-8e2d9b2d742a"
      },
      "source": [
        "embeddings = model.encode(\"A woman is reading.\")\n",
        "# print(embeddings)"
      ],
      "execution_count": 8,
      "outputs": [
        {
          "output_type": "stream",
          "name": "stderr",
          "text": [
            "100%|██████████| 1/1 [00:00<00:00,  1.24it/s]\n"
          ]
        }
      ]
    },
    {
      "cell_type": "code",
      "metadata": {
        "colab": {
          "base_uri": "https://localhost:8080/"
        },
        "id": "uzCIBuZRb5J5",
        "outputId": "074f9602-0d4d-49ed-d0a7-01099ae465f2"
      },
      "source": [
        "sentences_a = ['A woman is reading.', 'A man is playing a guitar.']\n",
        "sentences_b = ['He plays guitar.', 'A woman is making a photo.']\n",
        "similarities = model.similarity(sentences_a, sentences_b)\n",
        "print(similarities)"
      ],
      "execution_count": 9,
      "outputs": [
        {
          "output_type": "stream",
          "name": "stderr",
          "text": [
            "100%|██████████| 1/1 [00:00<00:00,  7.30it/s]\n",
            "100%|██████████| 1/1 [00:00<00:00,  7.82it/s]"
          ]
        },
        {
          "output_type": "stream",
          "name": "stdout",
          "text": [
            "[[0.01262082 0.34469503]\n",
            " [0.8938427  0.04842836]]\n"
          ]
        },
        {
          "output_type": "stream",
          "name": "stderr",
          "text": [
            "\n"
          ]
        }
      ]
    },
    {
      "cell_type": "code",
      "metadata": {
        "colab": {
          "base_uri": "https://localhost:8080/"
        },
        "id": "n2-T1ohacxfN",
        "outputId": "4e7fd752-7f5a-4c22-d225-31a3a841422e"
      },
      "source": [
        "sentences = ['A woman is reading.', 'A man is playing a guitar.']\n",
        "model.build_index(sentences)\n",
        "results = model.search(\"He plays guitar.\")\n",
        "print(results)"
      ],
      "execution_count": 10,
      "outputs": [
        {
          "output_type": "stream",
          "name": "stderr",
          "text": [
            "11/23/2021 01:45:25 - WARNING - simcse.tool -   Fail to import faiss. If you want to use faiss, install faiss through PyPI. Now the program continues with brute force search.\n",
            "11/23/2021 01:45:25 - INFO - simcse.tool -   Encoding embeddings for sentences...\n",
            "100%|██████████| 1/1 [00:00<00:00,  7.68it/s]\n",
            "11/23/2021 01:45:25 - INFO - simcse.tool -   Building index...\n",
            "11/23/2021 01:45:25 - INFO - simcse.tool -   Finished\n",
            "100%|██████████| 1/1 [00:00<00:00,  9.33it/s]"
          ]
        },
        {
          "output_type": "stream",
          "name": "stdout",
          "text": [
            "[('A man is playing a guitar.', 0.8938425779342651)]\n"
          ]
        },
        {
          "output_type": "stream",
          "name": "stderr",
          "text": [
            "\n"
          ]
        }
      ]
    },
    {
      "cell_type": "code",
      "metadata": {
        "colab": {
          "base_uri": "https://localhost:8080/"
        },
        "id": "I_XzGpNqdDXu",
        "outputId": "24410b58-3915-406b-b6ac-4de44c0d6dbb"
      },
      "source": [
        "# pip install torch==1.7.1+cu110 -f https://download.pytorch.org/whl/torch_stable.html\n"
      ],
      "execution_count": 11,
      "outputs": [
        {
          "output_type": "stream",
          "name": "stdout",
          "text": [
            "\u001b[31mERROR: Operation cancelled by user\u001b[0m\n"
          ]
        }
      ]
    },
    {
      "cell_type": "code",
      "metadata": {
        "colab": {
          "base_uri": "https://localhost:8080/"
        },
        "id": "VOyFl-BhdILK",
        "outputId": "e6dabb6e-6b51-4972-a0d0-cd7ea57dfd3f"
      },
      "source": [
        "%cd SentEval/data/downstream/\n",
        "%ls\n",
        "!bash download_dataset.sh\n"
      ],
      "execution_count": 21,
      "outputs": [
        {
          "output_type": "stream",
          "name": "stdout",
          "text": [
            "/content/drive/My Drive/researchHub/SimCSE/SentEval/data/downstream\n",
            "download_dataset.sh\n",
            "--2021-11-23 01:48:18--  https://huggingface.co/datasets/princeton-nlp/datasets-for-simcse/resolve/main/senteval.tar\n",
            "Resolving huggingface.co (huggingface.co)... 35.173.116.130, 54.221.222.133, 34.204.221.201, ...\n",
            "Connecting to huggingface.co (huggingface.co)|35.173.116.130|:443... connected.\n",
            "HTTP request sent, awaiting response... 302 Found\n",
            "Location: https://cdn-lfs.huggingface.co/datasets/princeton-nlp/datasets-for-simcse/bc43c148f7be97471c78fc4255399d3158cb99dfe8f2221999c918338b138c38 [following]\n",
            "--2021-11-23 01:48:18--  https://cdn-lfs.huggingface.co/datasets/princeton-nlp/datasets-for-simcse/bc43c148f7be97471c78fc4255399d3158cb99dfe8f2221999c918338b138c38\n",
            "Resolving cdn-lfs.huggingface.co (cdn-lfs.huggingface.co)... 52.84.162.75, 52.84.162.46, 52.84.162.32, ...\n",
            "Connecting to cdn-lfs.huggingface.co (cdn-lfs.huggingface.co)|52.84.162.75|:443... connected.\n",
            "HTTP request sent, awaiting response... 200 OK\n",
            "Length: 89825280 (86M) [application/octet-stream]\n",
            "Saving to: ‘senteval.tar’\n",
            "\n",
            "senteval.tar        100%[===================>]  85.66M  36.5MB/s    in 2.3s    \n",
            "\n",
            "2021-11-23 01:48:21 (36.5 MB/s) - ‘senteval.tar’ saved [89825280/89825280]\n",
            "\n",
            "CR/\n",
            "CR/custrev.neg\n",
            "CR/custrev.pos\n",
            "MPQA/\n",
            "MPQA/mpqa.neg\n",
            "MPQA/mpqa.pos\n",
            "MR/\n",
            "MR/rt-polarity.neg\n",
            "MR/rt-polarity.pos\n",
            "MRPC/\n",
            "MRPC/msr_paraphrase_train.txt\n",
            "MRPC/msr_paraphrase_test.txt\n",
            "SICK/\n",
            "SICK/SICK_trial.txt\n",
            "SICK/SICK_train.txt\n",
            "SICK/SICK_test_annotated.txt\n",
            "SNLI/\n",
            "SNLI/s2.test\n",
            "SNLI/s1.train\n",
            "SNLI/s2.train\n",
            "SNLI/labels.dev\n",
            "SNLI/s1.test\n",
            "SNLI/labels.test\n",
            "SNLI/s2.dev\n",
            "SNLI/s1.dev\n",
            "SNLI/labels.train\n",
            "SST/\n",
            "SST/fine/\n",
            "SST/fine/sentiment-test\n",
            "SST/fine/sentiment-train\n",
            "SST/fine/sentiment-dev\n",
            "SST/binary/\n",
            "SST/binary/sentiment-test\n",
            "SST/binary/sentiment-train\n",
            "SST/binary/sentiment-dev\n",
            "STS/\n",
            "STS/STS12-en-test/\n",
            "STS/STS12-en-test/STS.gs.surprise.OnWN.txt\n",
            "STS/STS12-en-test/STS.input.surprise.OnWN.txt\n",
            "STS/STS12-en-test/STS.input.MSRpar.txt\n",
            "STS/STS12-en-test/STS.gs.ALL.txt\n",
            "STS/STS12-en-test/00-readme.txt\n",
            "STS/STS12-en-test/STS.gs.MSRvid.txt\n",
            "STS/STS12-en-test/STS.input.MSRvid.txt\n",
            "STS/STS12-en-test/STS.gs.MSRpar.txt\n",
            "STS/STS12-en-test/STS.input.surprise.SMTnews.txt\n",
            "STS/STS12-en-test/STS.gs.SMTeuroparl.txt\n",
            "STS/STS12-en-test/STS.gs.surprise.SMTnews.txt\n",
            "STS/STS12-en-test/STS.input.SMTeuroparl.txt\n",
            "STS/STS14-en-test/\n",
            "STS/STS14-en-test/STS.input.headlines.txt\n",
            "STS/STS14-en-test/STS.gs.OnWN.txt\n",
            "STS/STS14-en-test/STS.gs.images.txt\n",
            "STS/STS14-en-test/STS.gs.deft-news.txt\n",
            "STS/STS14-en-test/STS.gs.tweet-news.txt\n",
            "STS/STS14-en-test/sts2012-train.tgz\n",
            "STS/STS14-en-test/sts2013-test.tgz\n",
            "STS/STS14-en-test/00-readme.txt\n",
            "STS/STS14-en-test/STS.input.OnWN.txt\n",
            "STS/STS14-en-test/STS.input.deft-news.txt\n",
            "STS/STS14-en-test/sts2012-test.tgz\n",
            "STS/STS14-en-test/STS.input.deft-forum.txt\n",
            "STS/STS14-en-test/STS.output.headlines.txt\n",
            "STS/STS14-en-test/correlation-noconfidence.pl\n",
            "STS/STS14-en-test/STS.gs.headlines.txt\n",
            "STS/STS14-en-test/STS.gs.deft-forum.txt\n",
            "STS/STS14-en-test/STS.input.tweet-news.txt\n",
            "STS/STS14-en-test/STS.input.images.txt\n",
            "STS/STS15-en-test/\n",
            "STS/STS15-en-test/STS.input.headlines.txt\n",
            "STS/STS15-en-test/STS.gs.images.txt\n",
            "STS/STS15-en-test/STS.gs.answers-students.txt\n",
            "STS/STS15-en-test/00-readme.txt\n",
            "STS/STS15-en-test/STS.input.answers-students.txt\n",
            "STS/STS15-en-test/STS.input.answers-forums.LICENSE\n",
            "STS/STS15-en-test/STS.gs.answers-forums.txt\n",
            "STS/STS15-en-test/STS.input.answers-forums.txt\n",
            "STS/STS15-en-test/STS.gs.belief.txt\n",
            "STS/STS15-en-test/correlation-noconfidence.pl\n",
            "STS/STS15-en-test/STS.input.belief.txt\n",
            "STS/STS15-en-test/STS.gs.headlines.txt\n",
            "STS/STS15-en-test/STS.answers-forums.zip\n",
            "STS/STS15-en-test/corebaseline-tokencos.tar.gz\n",
            "STS/STS15-en-test/STS.input.images.txt\n",
            "STS/STS13-en-test/\n",
            "STS/STS13-en-test/STS.input.headlines.txt\n",
            "STS/STS13-en-test/STS.gs.OnWN.txt\n",
            "STS/STS13-en-test/correlation.pl\n",
            "STS/STS13-en-test/STS.input.FNWN.txt\n",
            "STS/STS13-en-test/STS.gs.FNWN.txt\n",
            "STS/STS13-en-test/STS.output.FNWN.txt\n",
            "STS/STS13-en-test/00-readme.txt\n",
            "STS/STS13-en-test/correlation-all.pl\n",
            "STS/STS13-en-test/STS.input.OnWN.txt\n",
            "STS/STS13-en-test/STS.output.headlines.txt\n",
            "STS/STS13-en-test/correct-output.pl\n",
            "STS/STS13-en-test/STS.gs.headlines.txt\n",
            "STS/STS13-en-test/STS.output.SMT.txt\n",
            "STS/STS13-en-test/STS.gs.SMT.txt\n",
            "STS/STS13-en-test/STS.output.OnWN.txt\n",
            "STS/STSBenchmark/\n",
            "STS/STSBenchmark/correlation.pl\n",
            "STS/STSBenchmark/sts-test.csv\n",
            "STS/STSBenchmark/readme.txt\n",
            "STS/STSBenchmark/LICENSE.txt\n",
            "STS/STSBenchmark/sts-train.csv\n",
            "STS/STSBenchmark/sts-dev.csv\n",
            "STS/STS16-en-test/\n",
            "STS/STS16-en-test/STS.input.headlines.txt\n",
            "STS/STS16-en-test/STS.gs.plagiarism.txt\n",
            "STS/STS16-en-test/STS.gs.question-question.txt\n",
            "STS/STS16-en-test/STS.input.question-question.txt\n",
            "STS/STS16-en-test/STS2016.input.headlines.ascii\n",
            "STS/STS16-en-test/README.txt\n",
            "STS/STS16-en-test/STS.gs.answer-answer.txt\n",
            "STS/STS16-en-test/STS2016.input.question-question.ascii\n",
            "STS/STS16-en-test/STS.input.postediting.txt\n",
            "STS/STS16-en-test/STS.input.plagiarism.txt\n",
            "STS/STS16-en-test/STS.gs.postediting.txt\n",
            "STS/STS16-en-test/LICENSE.txt\n",
            "STS/STS16-en-test/STS.input.answer-answer.txt\n",
            "STS/STS16-en-test/correlation-noconfidence.pl\n",
            "STS/STS16-en-test/STS.gs.headlines.txt\n",
            "STS/STS16-en-test/STS2016.input.answer-answer.ascii\n",
            "STS/STS16-en-test/STS2016.input.postediting.ascii\n",
            "STS/STS16-en-test/STS2016.input.plagiarism.ascii\n",
            "SUBJ/\n",
            "SUBJ/subj.subjective\n",
            "SUBJ/subj.objective\n",
            "TREC/\n",
            "TREC/train_5500.label\n",
            "TREC/TREC_10.label\n"
          ]
        }
      ]
    },
    {
      "cell_type": "code",
      "metadata": {
        "colab": {
          "base_uri": "https://localhost:8080/"
        },
        "id": "Xrggw_zuey7O",
        "outputId": "5231f1ec-2fd5-4b7e-a71d-499ad9ae1807"
      },
      "source": [
        "%cd '/content/drive/My Drive/researchHub/SimCSE' \n",
        "%ls\n",
        "!python evaluation.py \\\n",
        "    --model_name_or_path princeton-nlp/sup-simcse-bert-base-uncased \\\n",
        "    --pooler cls \\\n",
        "    --task_set sts \\\n",
        "    --mode test\n"
      ],
      "execution_count": 30,
      "outputs": [
        {
          "output_type": "stream",
          "name": "stdout",
          "text": [
            "/content/drive/My Drive/researchHub/SimCSE\n",
            "\u001b[0m\u001b[01;34mdata\u001b[0m/          README.md             setup.py\n",
            "\u001b[01;34mdemo\u001b[0m/          requirements.txt      \u001b[01;34msimcse\u001b[0m/\n",
            "evaluation.py  run_sup_example.sh    simcse_to_huggingface.py\n",
            "\u001b[01;34mfigure\u001b[0m/        run_unsup_example.sh  train.py\n",
            "LICENSE        \u001b[01;34mSentEval\u001b[0m/\n",
            "2021-11-23 01:52:28,529 : Starting new HTTPS connection (1): huggingface.co:443\n",
            "2021-11-23 01:52:28,827 : https://huggingface.co:443 \"HEAD /princeton-nlp/sup-simcse-bert-base-uncased/resolve/main/config.json HTTP/1.1\" 200 0\n",
            "2021-11-23 01:52:28,874 : Starting new HTTPS connection (1): huggingface.co:443\n",
            "2021-11-23 01:52:29,155 : https://huggingface.co:443 \"HEAD /princeton-nlp/sup-simcse-bert-base-uncased/resolve/main/pytorch_model.bin HTTP/1.1\" 302 0\n",
            "2021-11-23 01:52:31,831 : Starting new HTTPS connection (1): huggingface.co:443\n",
            "2021-11-23 01:52:32,103 : https://huggingface.co:443 \"HEAD /princeton-nlp/sup-simcse-bert-base-uncased/resolve/main/tokenizer_config.json HTTP/1.1\" 200 0\n",
            "2021-11-23 01:52:32,107 : Starting new HTTPS connection (1): huggingface.co:443\n",
            "2021-11-23 01:52:32,380 : https://huggingface.co:443 \"HEAD /princeton-nlp/sup-simcse-bert-base-uncased/resolve/main/config.json HTTP/1.1\" 200 0\n",
            "2021-11-23 01:52:32,386 : Starting new HTTPS connection (1): huggingface.co:443\n",
            "2021-11-23 01:52:32,667 : https://huggingface.co:443 \"GET /api/models/princeton-nlp/sup-simcse-bert-base-uncased HTTP/1.1\" 200 687\n",
            "2021-11-23 01:52:32,672 : Starting new HTTPS connection (1): huggingface.co:443\n",
            "2021-11-23 01:52:32,951 : https://huggingface.co:443 \"HEAD /princeton-nlp/sup-simcse-bert-base-uncased/resolve/main/vocab.txt HTTP/1.1\" 200 0\n",
            "2021-11-23 01:52:32,955 : Starting new HTTPS connection (1): huggingface.co:443\n",
            "2021-11-23 01:52:33,233 : https://huggingface.co:443 \"HEAD /princeton-nlp/sup-simcse-bert-base-uncased/resolve/main/tokenizer.json HTTP/1.1\" 404 0\n",
            "2021-11-23 01:52:33,238 : Starting new HTTPS connection (1): huggingface.co:443\n",
            "2021-11-23 01:52:33,524 : https://huggingface.co:443 \"HEAD /princeton-nlp/sup-simcse-bert-base-uncased/resolve/main/added_tokens.json HTTP/1.1\" 404 0\n",
            "2021-11-23 01:52:33,529 : Starting new HTTPS connection (1): huggingface.co:443\n",
            "2021-11-23 01:52:33,805 : https://huggingface.co:443 \"HEAD /princeton-nlp/sup-simcse-bert-base-uncased/resolve/main/special_tokens_map.json HTTP/1.1\" 200 0\n",
            "2021-11-23 01:52:33,809 : Starting new HTTPS connection (1): huggingface.co:443\n",
            "2021-11-23 01:52:34,086 : https://huggingface.co:443 \"HEAD /princeton-nlp/sup-simcse-bert-base-uncased/resolve/main/tokenizer_config.json HTTP/1.1\" 200 0\n",
            "2021-11-23 01:52:34,090 : Starting new HTTPS connection (1): huggingface.co:443\n",
            "2021-11-23 01:52:34,369 : https://huggingface.co:443 \"HEAD /princeton-nlp/sup-simcse-bert-base-uncased/resolve/main/config.json HTTP/1.1\" 200 0\n",
            "2021-11-23 01:52:34,452 : Starting new HTTPS connection (1): huggingface.co:443\n",
            "2021-11-23 01:52:34,733 : https://huggingface.co:443 \"HEAD /princeton-nlp/sup-simcse-bert-base-uncased/resolve/main/config.json HTTP/1.1\" 200 0\n",
            "2021-11-23 01:52:34,781 : ***** Transfer task : STS12 *****\n",
            "\n",
            "\n",
            "./SentEval/senteval/sts.py:42: VisibleDeprecationWarning: Creating an ndarray from ragged nested sequences (which is a list-or-tuple of lists-or-tuples-or ndarrays with different lengths or shapes) is deprecated. If you meant to do this, you must specify 'dtype=object' when creating the ndarray\n",
            "  sent1 = np.array([s.split() for s in sent1])[not_empty_idx]\n",
            "./SentEval/senteval/sts.py:43: VisibleDeprecationWarning: Creating an ndarray from ragged nested sequences (which is a list-or-tuple of lists-or-tuples-or ndarrays with different lengths or shapes) is deprecated. If you meant to do this, you must specify 'dtype=object' when creating the ndarray\n",
            "  sent2 = np.array([s.split() for s in sent2])[not_empty_idx]\n",
            "2021-11-23 01:55:34,540 : MSRpar : pearson = 0.6199, spearman = 0.6253\n",
            "2021-11-23 01:56:40,556 : MSRvid : pearson = 0.9261, spearman = 0.9293\n",
            "2021-11-23 01:57:38,786 : SMTeuroparl : pearson = 0.4987, spearman = 0.5877\n",
            "2021-11-23 01:59:35,404 : surprise.OnWN : pearson = 0.7662, spearman = 0.6992\n",
            "2021-11-23 02:00:34,503 : surprise.SMTnews : pearson = 0.7292, spearman = 0.6099\n",
            "2021-11-23 02:00:34,506 : ALL : Pearson = 0.8438,             Spearman = 0.7529\n",
            "2021-11-23 02:00:34,507 : ALL (weighted average) : Pearson = 0.7252,             Spearman = 0.7090\n",
            "2021-11-23 02:00:34,507 : ALL (average) : Pearson = 0.7080,             Spearman = 0.6903\n",
            "\n",
            "2021-11-23 02:00:34,511 : ***** Transfer task : STS13 (-SMT) *****\n",
            "\n",
            "\n",
            "2021-11-23 02:01:33,571 : FNWN : pearson = 0.6293, spearman = 0.6379\n",
            "2021-11-23 02:02:50,694 : headlines : pearson = 0.8011, spearman = 0.8231\n",
            "2021-11-23 02:03:51,384 : OnWN : pearson = 0.8772, spearman = 0.8635\n",
            "2021-11-23 02:03:51,386 : ALL : Pearson = 0.8306,             Spearman = 0.8467\n",
            "2021-11-23 02:03:51,386 : ALL (weighted average) : Pearson = 0.8079,             Spearman = 0.8149\n",
            "2021-11-23 02:03:51,386 : ALL (average) : Pearson = 0.7692,             Spearman = 0.7748\n",
            "\n",
            "2021-11-23 02:03:51,388 : ***** Transfer task : STS14 *****\n",
            "\n",
            "\n",
            "2021-11-23 02:04:50,244 : deft-forum : pearson = 0.6477, spearman = 0.6436\n",
            "2021-11-23 02:06:03,413 : deft-news : pearson = 0.8242, spearman = 0.8096\n",
            "2021-11-23 02:07:33,605 : headlines : pearson = 0.7931, spearman = 0.7909\n",
            "2021-11-23 02:08:59,507 : images : pearson = 0.8937, spearman = 0.8658\n",
            "2021-11-23 02:10:28,490 : OnWN : pearson = 0.8949, spearman = 0.8752\n",
            "2021-11-23 02:12:29,664 : tweet-news : pearson = 0.8357, spearman = 0.7677\n",
            "2021-11-23 02:12:29,668 : ALL : Pearson = 0.8251,             Spearman = 0.8019\n",
            "2021-11-23 02:12:29,668 : ALL (weighted average) : Pearson = 0.8271,             Spearman = 0.8019\n",
            "2021-11-23 02:12:29,668 : ALL (average) : Pearson = 0.8149,             Spearman = 0.7921\n",
            "\n",
            "2021-11-23 02:12:29,674 : ***** Transfer task : STS15 *****\n",
            "\n",
            "\n",
            "2021-11-23 02:13:54,239 : answers-forums : pearson = 0.7454, spearman = 0.7464\n",
            "2021-11-23 02:15:19,666 : answers-students : pearson = 0.7442, spearman = 0.7512\n",
            "2021-11-23 02:16:53,024 : belief : pearson = 0.8519, spearman = 0.8722\n",
            "2021-11-23 02:18:27,406 : headlines : pearson = 0.8209, spearman = 0.8539\n",
            "2021-11-23 02:19:54,756 : images : pearson = 0.9273, spearman = 0.9372\n",
            "2021-11-23 02:19:54,759 : ALL : Pearson = 0.8428,             Spearman = 0.8540\n",
            "2021-11-23 02:19:54,759 : ALL (weighted average) : Pearson = 0.8227,             Spearman = 0.8379\n",
            "2021-11-23 02:19:54,759 : ALL (average) : Pearson = 0.8179,             Spearman = 0.8322\n",
            "\n",
            "2021-11-23 02:19:54,764 : ***** Transfer task : STS16 *****\n",
            "\n",
            "\n",
            "2021-11-23 02:20:31,044 : answer-answer : pearson = 0.7629, spearman = 0.7651\n",
            "2021-11-23 02:20:58,885 : headlines : pearson = 0.7947, spearman = 0.8354\n",
            "2021-11-23 02:21:35,611 : plagiarism : pearson = 0.8431, spearman = 0.8652\n",
            "2021-11-23 02:22:41,420 : postediting : pearson = 0.8448, spearman = 0.8863\n",
            "2021-11-23 02:23:06,651 : question-question : pearson = 0.7289, spearman = 0.7348\n",
            "2021-11-23 02:23:06,653 : ALL : Pearson = 0.7821,             Spearman = 0.8082\n",
            "2021-11-23 02:23:06,653 : ALL (weighted average) : Pearson = 0.7960,             Spearman = 0.8189\n",
            "2021-11-23 02:23:06,654 : ALL (average) : Pearson = 0.7949,             Spearman = 0.8174\n",
            "\n",
            "2021-11-23 02:23:06,656 : \n",
            "\n",
            "***** Transfer task : STSBenchmark*****\n",
            "\n",
            "\n",
            "2021-11-23 02:39:38,727 : train : pearson = 0.8365, spearman = 0.8330\n",
            "2021-11-23 02:44:30,394 : dev : pearson = 0.8569, spearman = 0.8619\n",
            "2021-11-23 02:48:38,489 : test : pearson = 0.8328, spearman = 0.8426\n",
            "2021-11-23 02:48:38,495 : ALL : Pearson = 0.8401,             Spearman = 0.8413\n",
            "2021-11-23 02:48:38,495 : ALL (weighted average) : Pearson = 0.8394,             Spearman = 0.8396\n",
            "2021-11-23 02:48:38,495 : ALL (average) : Pearson = 0.8421,             Spearman = 0.8458\n",
            "\n",
            "2021-11-23 02:48:38,506 : \n",
            "\n",
            "***** Transfer task : SICKRelatedness*****\n",
            "\n",
            "\n",
            "2021-11-23 02:58:46,481 : train : pearson = 0.8583, spearman = 0.8099\n",
            "2021-11-23 03:00:04,747 : dev : pearson = 0.8519, spearman = 0.8256\n",
            "2021-11-23 03:11:07,151 : test : pearson = 0.8512, spearman = 0.8039\n",
            "2021-11-23 03:11:07,158 : ALL : Pearson = 0.8546,             Spearman = 0.8077\n",
            "2021-11-23 03:11:07,159 : ALL (weighted average) : Pearson = 0.8545,             Spearman = 0.8077\n",
            "2021-11-23 03:11:07,159 : ALL (average) : Pearson = 0.8538,             Spearman = 0.8131\n",
            "\n",
            "------ test ------\n",
            "+-------+-------+-------+-------+-------+--------------+-----------------+-------+\n",
            "| STS12 | STS13 | STS14 | STS15 | STS16 | STSBenchmark | SICKRelatedness |  Avg. |\n",
            "+-------+-------+-------+-------+-------+--------------+-----------------+-------+\n",
            "| 75.29 | 84.67 | 80.19 | 85.40 | 80.82 |    84.26     |      80.39      | 81.57 |\n",
            "+-------+-------+-------+-------+-------+--------------+-----------------+-------+\n",
            "+------+------+------+------+------+------+------+------+\n",
            "|  MR  |  CR  | SUBJ | MPQA | SST2 | TREC | MRPC | Avg. |\n",
            "+------+------+------+------+------+------+------+------+\n",
            "| 0.00 | 0.00 | 0.00 | 0.00 | 0.00 | 0.00 | 0.00 | 0.00 |\n",
            "+------+------+------+------+------+------+------+------+\n"
          ]
        }
      ]
    },
    {
      "cell_type": "markdown",
      "metadata": {
        "id": "7niz8dyFiSwE"
      },
      "source": [
        "# 新段落"
      ]
    },
    {
      "cell_type": "markdown",
      "metadata": {
        "id": "mfDThETuiTNz"
      },
      "source": [
        "# 新段落"
      ]
    }
  ]
}